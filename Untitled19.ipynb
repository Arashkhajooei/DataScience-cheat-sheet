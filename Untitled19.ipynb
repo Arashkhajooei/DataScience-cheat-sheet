{
  "nbformat": 4,
  "nbformat_minor": 0,
  "metadata": {
    "colab": {
      "provenance": [],
      "authorship_tag": "ABX9TyNCzYYY4ejxUHbBe7sOt0F8",
      "include_colab_link": true
    },
    "kernelspec": {
      "name": "python3",
      "display_name": "Python 3"
    },
    "language_info": {
      "name": "python"
    }
  },
  "cells": [
    {
      "cell_type": "markdown",
      "metadata": {
        "id": "view-in-github",
        "colab_type": "text"
      },
      "source": [
        "<a href=\"https://colab.research.google.com/github/arashkhgit/DataScience-cheat-sheet/blob/main/Untitled19.ipynb\" target=\"_parent\"><img src=\"https://colab.research.google.com/assets/colab-badge.svg\" alt=\"Open In Colab\"/></a>"
      ]
    },
    {
      "cell_type": "code",
      "execution_count": 19,
      "metadata": {
        "colab": {
          "base_uri": "https://localhost:8080/"
        },
        "id": "OSN8X47ytsck",
        "outputId": "71b94d9f-2a6d-4024-c682-9d722b0cc6a8"
      },
      "outputs": [
        {
          "output_type": "stream",
          "name": "stdout",
          "text": [
            "-6\n",
            "1\n"
          ]
        }
      ],
      "source": [
        "import random\n",
        "\n",
        "A=['3','3','3','3','3','-6','-6','1','1','1']\n",
        "B=['0','0','9','9','-12','1','1','1','-2','-2']\n",
        "random_number = random.randint(0, 10)\n",
        "Person1_location=A[random_number]\n",
        "Person2_location=B[random_number]\n",
        "print(Person1_location)\n",
        "print(Person2_location)"
      ]
    },
    {
      "cell_type": "code",
      "source": [
        "import random\n",
        "\n",
        "A = ['3', '3', '3', '3', '3', '-6', '-6', '1', '1', '1']\n",
        "B = ['0', '0', '9', '9', '-12', '1', '1', '1', '-2', '-2']\n",
        "\n",
        "random_number = random.randint(0, 9)\n",
        "Person1_location = A[random_number]\n",
        "Person2_location = B[random_number]\n",
        "\n",
        "print(Person1_location)\n",
        "print(Person2_location)\n",
        "\n",
        "class Person1:\n",
        "    def __init__(self):\n",
        "        self.position = 0\n",
        "\n",
        "    def update_position(self, Person1_location):\n",
        "        if self.position >= 0:\n",
        "            if Person1_location == '3':\n",
        "                self.position += int(Person1_location)\n",
        "            if Person1_location == '-6':\n",
        "                self.position += int(Person1_location)\n",
        "            if Person1_location == '1':\n",
        "                self.position += int(Person1_location)\n",
        "        else:\n",
        "            self.position = 0\n",
        "\n",
        "class Person2:\n",
        "    def __init__(self):\n",
        "        self.position = 0\n",
        "\n",
        "    def update_position(self, Person2_location):\n",
        "        if self.position >= 0:\n",
        "            if Person2_location == '0':\n",
        "                self.position += int(Person2_location)\n",
        "            if Person2_location == '9':\n",
        "                self.position += int(Person2_location)\n",
        "            if Person2_location == '-12':\n",
        "                self.position += int(Person2_location)\n",
        "            if Person2_location == '1':\n",
        "                self.position += int(Person2_location)\n",
        "            if Person2_location == '-2':\n",
        "                self.position += int(Person2_location)\n",
        "        else:\n",
        "            self.position = 0\n",
        "# Create an instance of Persons\n",
        "person1 = Person1()\n",
        "person2 = Person2()\n",
        "\n",
        "# Update the person's position using the random number\n",
        "person1.update_position(Person1_location)\n",
        "person2.update_position(Person2_location)\n",
        "# Print the updated position\n",
        "print(\"Person1's position:\", person1.position)\n",
        "print(\"Person2's position:\", person2.position)"
      ],
      "metadata": {
        "colab": {
          "base_uri": "https://localhost:8080/"
        },
        "id": "48daC87tuetH",
        "outputId": "cad44cc4-f422-454e-faf0-c2e0a73d6a48"
      },
      "execution_count": 38,
      "outputs": [
        {
          "output_type": "stream",
          "name": "stdout",
          "text": [
            "3\n",
            "-12\n",
            "Person1's position: 3\n",
            "Person2's position: -12\n"
          ]
        }
      ]
    },
    {
      "cell_type": "code",
      "source": [
        "import random\n",
        "\n",
        "A = ['3', '3', '3', '3', '3', '-6', '-6', '1', '1', '1']\n",
        "B = ['0', '0', '9', '9', '1', '1', '1', '-12', '-2', '-2']\n",
        "\n",
        "random_number = random.randint(0, 10)\n",
        "Person1_location = A[random_number]\n",
        "Person2_location = B[random_number]\n",
        "\n",
        "print(Person1_location)\n",
        "print(Person2_location)\n",
        "\n",
        "class Person1:\n",
        "    def __init__(self):\n",
        "        self.position = 0\n",
        "\n",
        "    def update_position(self, value):\n",
        "        self.position = max(self.position + int(value), 0)\n",
        "\n",
        "class Person2:\n",
        "    def __init__(self):\n",
        "        self.position = 0\n",
        "\n",
        "    def update_position(self, value):\n",
        "        self.position = max(self.position + int(value), 0)\n",
        "\n",
        "\n",
        "person1 = Person1()\n",
        "person2 = Person2()\n",
        "\n",
        "\n",
        "person1.update_position(Person1_location)\n",
        "person2.update_position(Person2_location)\n",
        "\n",
        "\n",
        "print(\"Person1's position:\", person1.position)\n",
        "print(\"Person2's position:\", person2.position)"
      ],
      "metadata": {
        "colab": {
          "base_uri": "https://localhost:8080/"
        },
        "id": "UnLxANGtywXA",
        "outputId": "eff38f7b-f7f2-4450-aaa4-3da91fce93f9"
      },
      "execution_count": 79,
      "outputs": [
        {
          "output_type": "stream",
          "name": "stdout",
          "text": [
            "-6\n",
            "1\n",
            "Person1's position: 0\n",
            "Person2's position: 1\n"
          ]
        }
      ]
    },
    {
      "cell_type": "code",
      "source": [
        "import random\n",
        "\n",
        "locations = ['3', '-6', '1']\n",
        "weights = [0.5,0.2, 0.3]\n",
        "\n",
        "Person1_location = random.choices(locations, weights)[0]\n",
        "\n",
        "locations2 = ['0', '9', '-12', '1', '-2']\n",
        "weights2 = [0.2, 0.2, 0.1, 0.3, 0.2]\n",
        "\n",
        "Person2_location = random.choices(locations2, weights2)[0]\n",
        "\n",
        "print(Person1_location)\n",
        "print(Person2_location)\n",
        "\n",
        "class Person1:\n",
        "    def __init__(self):\n",
        "        self.position = 0\n",
        "\n",
        "    def update_position(self, value):\n",
        "        self.position = max(self.position + int(value), 0)\n",
        "\n",
        "class Person2:\n",
        "    def __init__(self):\n",
        "        self.position = 0\n",
        "\n",
        "    def update_position(self, value):\n",
        "        self.position = max(self.position + int(value), 0)\n",
        "\n",
        "\n",
        "person1 = Person1()\n",
        "person2 = Person2()\n",
        "\n",
        "\n",
        "person1.update_position(Person1_location)\n",
        "person2.update_position(Person2_location)\n",
        "\n",
        "\n",
        "print(\"Person1's position:\", person1.position)\n",
        "print(\"Person2's position:\", person2.position)"
      ],
      "metadata": {
        "colab": {
          "base_uri": "https://localhost:8080/"
        },
        "id": "dDXfn8ac0TpA",
        "outputId": "80341be2-1896-4c77-aee4-6464b871e73a"
      },
      "execution_count": 83,
      "outputs": [
        {
          "output_type": "stream",
          "name": "stdout",
          "text": [
            "1\n",
            "0\n",
            "Person1's position: 1\n",
            "Person2's position: 0\n"
          ]
        }
      ]
    },
    {
      "cell_type": "code",
      "source": [],
      "metadata": {
        "id": "gV02ISrI1guX"
      },
      "execution_count": 67,
      "outputs": []
    }
  ]
}